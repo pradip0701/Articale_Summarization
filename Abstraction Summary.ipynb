{
 "cells": [
  {
   "cell_type": "markdown",
   "id": "97553441",
   "metadata": {},
   "source": [
    "## Preparing the data. Here data is scraping from wikipedia"
   ]
  },
  {
   "cell_type": "code",
   "execution_count": null,
   "id": "1877aab2",
   "metadata": {},
   "outputs": [],
   "source": [
    "import bs4 as BeautifulSoup  #use to fetcha the articles text\n",
    "import urllib.request        #use for connectiong to the page and retrieving the HTML\n",
    "\n",
    "url=input(\"Enter the wikipedia url for summary: \")\n",
    "words = int(input(\"Enter numbers of words to summarized: \"))\n",
    "\n",
    "# Fetching the content from the URL\n",
    "scraped_data = urllib.request.urlopen(url)\n",
    "article = scraped_data.read()\n",
    "\n",
    "# Parsing the URL content and storing in a variable\n",
    "parsed_article = bs.BeautifulSoup(article,'html.parser')#'lxml'\n",
    "\n",
    "# Returning <p> tags\n",
    "paragraphs = parsed_article.find_all('p')\n",
    "article_text = \"\"\n",
    "\n",
    "# Looping through the paragraphs and adding them to the variable\n",
    "for p in paragraphs:\n",
    "    article_text += p.text"
   ]
  },
  {
   "cell_type": "markdown",
   "id": "e7199c88",
   "metadata": {},
   "source": [
    "## Processing the data"
   ]
  },
  {
   "cell_type": "code",
   "execution_count": 69,
   "id": "96062f57",
   "metadata": {},
   "outputs": [],
   "source": [
    "# Removing Square Brackets and Extra Spaces\n",
    "article_text = re.sub(r'\\[[0-9]*\\]', ' ', article_text)\n",
    "article_text = re.sub(r'\\s+', ' ', article_text)"
   ]
  },
  {
   "cell_type": "code",
   "execution_count": 70,
   "id": "925e9927",
   "metadata": {},
   "outputs": [],
   "source": [
    "# Removing special characters and digits\n",
    "formatted_article_text = re.sub('[^a-zA-Z]', ' ', article_text )\n",
    "formatted_article_text = re.sub(r'\\s+', ' ', formatted_article_text)"
   ]
  },
  {
   "cell_type": "markdown",
   "id": "7f1488a9",
   "metadata": {},
   "source": [
    "## Tokenizing the article into sentences"
   ]
  },
  {
   "cell_type": "code",
   "execution_count": 71,
   "id": "be382974",
   "metadata": {},
   "outputs": [],
   "source": [
    "import nltk\n",
    "sentence_list = nltk.sent_tokenize(article_text)"
   ]
  },
  {
   "cell_type": "code",
   "execution_count": 72,
   "id": "ea011402",
   "metadata": {},
   "outputs": [],
   "source": [
    "stopwords = nltk.corpus.stopwords.words('english')\n",
    "\n",
    "word_frequencies = {}\n",
    "for word in nltk.word_tokenize(formatted_article_text):\n",
    "    if word not in stopwords:\n",
    "        if word not in word_frequencies.keys():\n",
    "            word_frequencies[word] = 1\n",
    "        else:\n",
    "            word_frequencies[word] += 1"
   ]
  },
  {
   "cell_type": "markdown",
   "id": "942956f7",
   "metadata": {},
   "source": [
    "## Finding the weighted frequencies of the sentences"
   ]
  },
  {
   "cell_type": "code",
   "execution_count": 73,
   "id": "c743139d",
   "metadata": {},
   "outputs": [],
   "source": [
    "maximum_frequncy = max(word_frequencies.values())\n",
    "\n",
    "for word in word_frequencies.keys():\n",
    "    word_frequencies[word] = (word_frequencies[word]/maximum_frequncy)"
   ]
  },
  {
   "cell_type": "markdown",
   "id": "4a4fd57d",
   "metadata": {},
   "source": [
    "## Calculating the threshold of the sentences"
   ]
  },
  {
   "cell_type": "code",
   "execution_count": 74,
   "id": "1e564a6a",
   "metadata": {},
   "outputs": [],
   "source": [
    "sentence_scores = {}\n",
    "for sent in sentence_list:\n",
    "    for word in nltk.word_tokenize(sent.lower()):\n",
    "        if word in word_frequencies.keys():\n",
    "            if len(sent.split(' ')) < 30:\n",
    "                if sent not in sentence_scores.keys():\n",
    "                    sentence_scores[sent] = word_frequencies[word]\n",
    "                else:\n",
    "                    sentence_scores[sent] += word_frequencies[word]"
   ]
  },
  {
   "cell_type": "markdown",
   "id": "f540bc8b",
   "metadata": {},
   "source": [
    "##  Function to generate a summary from article"
   ]
  },
  {
   "cell_type": "code",
   "execution_count": 75,
   "id": "73bccd28",
   "metadata": {
    "scrolled": true
   },
   "outputs": [
    {
     "name": "stdout",
     "output_type": "stream",
     "text": [
      "The group also advocated that young women had the right to elect not to marry and that married women had the right to choose a celibate life. With the support of Vicente Fox, the Brahma Kumaris introduced their meditation practice and philosophy to the government of Mexico through the \"Self Management Leadership\" (SML). Adherents have been criticised by nonmembers for hiding or downplaying their prophesied physical destruction of the world particularly as they still believe that such an event will happen \"soon\". This may be done by sitting tranquilly, then making affirmations regarding the eternal nature of the soul, the original purity of one's nature, and the nature of God. The organisation also offers courses in \"positive thinking\", \"self management leadership\" and \"living values\".\n",
      "\n",
      "Number of words in articles is  17067  & Summarized in  795 Words\n"
     ]
    }
   ],
   "source": [
    "import heapq\n",
    "\n",
    "for i in range(1, 100):\n",
    "    summary_sentences = heapq.nlargest(i,sentence_scores, key=sentence_scores.get)\n",
    "    summary = ' '.join(summary_sentences)\n",
    "    if (len(summary) > words):\n",
    "        summary_sentences = heapq.nlargest(i-1,sentence_scores, key=sentence_scores.get)\n",
    "        summary = ' '.join(summary_sentences)\n",
    "        break\n",
    "print(summary)\n",
    "print( \"\\nNumber of words in articles is \",str(len(formatted_article_text)),\" & Summarized in \",str(len(summary)),'Words')"
   ]
  },
  {
   "cell_type": "code",
   "execution_count": null,
   "id": "98ee9ccd",
   "metadata": {},
   "outputs": [],
   "source": []
  }
 ],
 "metadata": {
  "kernelspec": {
   "display_name": "Python 3 (ipykernel)",
   "language": "python",
   "name": "python3"
  },
  "language_info": {
   "codemirror_mode": {
    "name": "ipython",
    "version": 3
   },
   "file_extension": ".py",
   "mimetype": "text/x-python",
   "name": "python",
   "nbconvert_exporter": "python",
   "pygments_lexer": "ipython3",
   "version": "3.10.5"
  }
 },
 "nbformat": 4,
 "nbformat_minor": 5
}
